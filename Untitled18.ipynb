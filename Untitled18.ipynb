{
  "nbformat": 4,
  "nbformat_minor": 0,
  "metadata": {
    "colab": {
      "provenance": [],
      "authorship_tag": "ABX9TyNuFN22b1clpxlsbOXyzhee",
      "include_colab_link": true
    },
    "kernelspec": {
      "name": "python3",
      "display_name": "Python 3"
    },
    "language_info": {
      "name": "python"
    }
  },
  "cells": [
    {
      "cell_type": "markdown",
      "metadata": {
        "id": "view-in-github",
        "colab_type": "text"
      },
      "source": [
        "<a href=\"https://colab.research.google.com/github/2303A51L39/2303A51L39-Batch-28/blob/main/Untitled18.ipynb\" target=\"_parent\"><img src=\"https://colab.research.google.com/assets/colab-badge.svg\" alt=\"Open In Colab\"/></a>"
      ]
    },
    {
      "cell_type": "code",
      "execution_count": 1,
      "metadata": {
        "colab": {
          "base_uri": "https://localhost:8080/"
        },
        "id": "_AssSDe0a7NA",
        "outputId": "ae70b5dc-56e2-4c1a-b009-14d6808cd792"
      },
      "outputs": [
        {
          "output_type": "stream",
          "name": "stdout",
          "text": [
            "Collecting hmmlearn\n",
            "  Downloading hmmlearn-0.3.2-cp310-cp310-manylinux_2_17_x86_64.manylinux2014_x86_64.whl.metadata (2.9 kB)\n",
            "Requirement already satisfied: numpy>=1.10 in /usr/local/lib/python3.10/dist-packages (from hmmlearn) (1.26.4)\n",
            "Requirement already satisfied: scikit-learn!=0.22.0,>=0.16 in /usr/local/lib/python3.10/dist-packages (from hmmlearn) (1.3.2)\n",
            "Requirement already satisfied: scipy>=0.19 in /usr/local/lib/python3.10/dist-packages (from hmmlearn) (1.13.1)\n",
            "Requirement already satisfied: joblib>=1.1.1 in /usr/local/lib/python3.10/dist-packages (from scikit-learn!=0.22.0,>=0.16->hmmlearn) (1.4.2)\n",
            "Requirement already satisfied: threadpoolctl>=2.0.0 in /usr/local/lib/python3.10/dist-packages (from scikit-learn!=0.22.0,>=0.16->hmmlearn) (3.5.0)\n",
            "Downloading hmmlearn-0.3.2-cp310-cp310-manylinux_2_17_x86_64.manylinux2014_x86_64.whl (161 kB)\n",
            "\u001b[2K   \u001b[90m━━━━━━━━━━━━━━━━━━━━━━━━━━━━━━━━━━━━━━━━\u001b[0m \u001b[32m161.1/161.1 kB\u001b[0m \u001b[31m2.8 MB/s\u001b[0m eta \u001b[36m0:00:00\u001b[0m\n",
            "\u001b[?25hInstalling collected packages: hmmlearn\n",
            "Successfully installed hmmlearn-0.3.2\n"
          ]
        }
      ],
      "source": [
        "!pip install hmmlearn\n",
        "import numpy as np\n",
        "from hmmlearn import hmm\n",
        "# States and observations\n",
        "states = [\"Sunny\", \"Rainy\"]\n",
        "n_states = len(states)\n",
        "observations = [\"Dry\", \"Damp\", \"Wet\"]\n",
        "n_observations = len(observations)\n",
        "# Transition probabilities (A)\n",
        "transition_prob = np.array([\n",
        "    [0.7, 0.3],  # Sunny -> Sunny, Sunny -> Rainy\n",
        "    [0.4, 0.6]   # Rainy -> Sunny, Rainy -> Rainy\n",
        "])"
      ]
    },
    {
      "cell_type": "code",
      "source": [
        "import numpy as np\n",
        "\n",
        "# Hidden states\n",
        "states = [\"Sunny\", \"Rainy\"]\n",
        "\n",
        "# Observations\n",
        "observations = [\"Dry\", \"Damp\", \"Wet\"]\n",
        "\n",
        "# Transition probabilities matrix\n",
        "transition_prob = np.array([[0.8, 0.2],  # P(Sunny -> Sunny), P(Sunny -> Rainy)\n",
        "                            [0.4, 0.6]]) # P(Rainy -> Sunny), P(Rainy -> Rainy)\n",
        "\n",
        "# Emission probabilities matrix\n",
        "emission_prob = np.array([[0.6, 0.3, 0.1],  # P(Dry|Sunny), P(Damp|Sunny), P(Wet|Sunny)\n",
        "                          [0.1, 0.4, 0.5]]) # P(Dry|Rainy), P(Damp|Rainy), P(Wet|Rainy)\n",
        "\n",
        "# Initial probabilities vector\n",
        "initial_prob = np.array([0.5, 0.5])  # P(Sunny), P(Rainy)\n",
        "\n",
        "# Observed sequence\n",
        "obs_seq = [0, 1, 2]  # [\"Dry\", \"Damp\", \"Wet\"]\n",
        "\n",
        "def viterbi(obs_seq, states, initial_prob, transition_prob, emission_prob):\n",
        "    n_states = len(states)\n",
        "    T = len(obs_seq)\n",
        "\n",
        "    # Initialize the dynamic programming table and path pointer\n",
        "    dp = np.zeros((n_states, T))\n",
        "    path = np.zeros((n_states, T), dtype=int)\n",
        "\n",
        "    # Initialize base cases (t == 0)\n",
        "    for s in range(n_states):\n",
        "        dp[s, 0] = initial_prob[s] * emission_prob[s, obs_seq[0]]\n",
        "\n",
        "    # Run the Viterbi algorithm\n",
        "    for t in range(1, T):\n",
        "        for s in range(n_states):\n",
        "            probabilities = dp[:, t-1] * transition_prob[:, s] * emission_prob[s, obs_seq[t]]\n",
        "            dp[s, t] = np.max(probabilities)\n",
        "            path[s, t] = np.argmax(probabilities)\n",
        "\n",
        "    # Backtrack to find the optimal state sequence\n",
        "    optimal_path = np.zeros(T, dtype=int)\n",
        "    optimal_path[T-1] = np.argmax(dp[:, T-1])\n",
        "\n",
        "    for t in range(T-2, -1, -1):\n",
        "        optimal_path[t] = path[optimal_path[t+1], t+1]\n",
        "\n",
        "    optimal_states = [states[state] for state in optimal_path]\n",
        "    return optimal_states\n",
        "\n",
        "# Predict the most likely sequence of states\n",
        "predicted_states = viterbi(obs_seq, states, initial_prob, transition_prob, emission_prob)\n",
        "print(\"Most likely weather sequence:\", predicted_states)"
      ],
      "metadata": {
        "colab": {
          "base_uri": "https://localhost:8080/"
        },
        "id": "WSNngTICgD6B",
        "outputId": "ef12bcf7-56f5-4ddd-f98b-0744ad1c4c8b"
      },
      "execution_count": 2,
      "outputs": [
        {
          "output_type": "stream",
          "name": "stdout",
          "text": [
            "Most likely weather sequence: ['Sunny', 'Sunny', 'Rainy']\n"
          ]
        }
      ]
    }
  ]
}