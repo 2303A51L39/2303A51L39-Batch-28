{
  "nbformat": 4,
  "nbformat_minor": 0,
  "metadata": {
    "colab": {
      "provenance": [],
      "authorship_tag": "ABX9TyP4v6Gg9s5KFNeKemPndcml",
      "include_colab_link": true
    },
    "kernelspec": {
      "name": "python3",
      "display_name": "Python 3"
    },
    "language_info": {
      "name": "python"
    }
  },
  "cells": [
    {
      "cell_type": "markdown",
      "metadata": {
        "id": "view-in-github",
        "colab_type": "text"
      },
      "source": [
        "<a href=\"https://colab.research.google.com/github/2303A51L39/2303A51L39-Batch-28/blob/main/Untitled16.ipynb\" target=\"_parent\"><img src=\"https://colab.research.google.com/assets/colab-badge.svg\" alt=\"Open In Colab\"/></a>"
      ]
    },
    {
      "cell_type": "code",
      "execution_count": 1,
      "metadata": {
        "colab": {
          "base_uri": "https://localhost:8080/"
        },
        "id": "d2CsDfofKAM1",
        "outputId": "1c43323c-431b-4a9a-f094-8439c8958632"
      },
      "outputs": [
        {
          "output_type": "stream",
          "name": "stdout",
          "text": [
            "Sentence Tokens:\n",
            "Sentence 1: Hello there!\n",
            "Sentence 2: How are you doing today?\n",
            "Sentence 3: NLP is fascinating.\n",
            "\n",
            "Word Tokens:\n",
            "['Hello', 'there', '!', 'How', 'are', 'you', 'doing', 'today', '?', 'NLP', 'is', 'fascinating', '.']\n"
          ]
        }
      ],
      "source": [
        "import nltk\n",
        "from nltk.tokenize import word_tokenize, sent_tokenize\n",
        "nltk.download('punkt', quiet=True)\n",
        "text = \"Hello there! How are you doing today? NLP is fascinating.\"\n",
        "sentences = sent_tokenize(text)\n",
        "print(\"Sentence Tokens:\")\n",
        "for i, sentence in enumerate(sentences, 1):\n",
        "    print(f\"Sentence {i}: {sentence}\")\n",
        "words = word_tokenize(text)\n",
        "print(\"\\nWord Tokens:\")\n",
        "print(words)"
      ]
    },
    {
      "cell_type": "code",
      "source": [
        "from nltk.stem import PorterStemmer\n",
        "words = [\"running\", \"ran\", \"runs\", \"easily\", \"fairly\"]\n",
        "stemmer = PorterStemmer()\n",
        "print(\"Original words and their stems:\")\n",
        "for word in words:\n",
        "    stem = stemmer.stem(word)\n",
        "    print(f\"{word} -> {stem}\")"
      ],
      "metadata": {
        "colab": {
          "base_uri": "https://localhost:8080/"
        },
        "id": "e9ucm-9zKLn1",
        "outputId": "bb145124-2333-4b76-c4bc-70da1fde1999"
      },
      "execution_count": 2,
      "outputs": [
        {
          "output_type": "stream",
          "name": "stdout",
          "text": [
            "Original words and their stems:\n",
            "running -> run\n",
            "ran -> ran\n",
            "runs -> run\n",
            "easily -> easili\n",
            "fairly -> fairli\n"
          ]
        }
      ]
    },
    {
      "cell_type": "code",
      "source": [
        "from sklearn.feature_extraction.text import CountVectorizer\n",
        "\n",
        "texts = [\n",
        "    \"NLP is fun and interesting.\",\n",
        "    \"NLP involves linguistics and computer science.\"\n",
        "]\n",
        "vectorizer = CountVectorizer()\n",
        "bow_matrix = vectorizer.fit_transform(texts)\n",
        "print(\"Vocabulary:\")\n",
        "print(vectorizer.get_feature_names_out())\n",
        "print(\"\\nBag of Words representation:\")\n",
        "print(bow_matrix.toarray())"
      ],
      "metadata": {
        "colab": {
          "base_uri": "https://localhost:8080/"
        },
        "id": "1NYkHuDFKQCg",
        "outputId": "c2a3a19b-b5a0-4d16-f40a-209be429bf11"
      },
      "execution_count": 3,
      "outputs": [
        {
          "output_type": "stream",
          "name": "stdout",
          "text": [
            "Vocabulary:\n",
            "['and' 'computer' 'fun' 'interesting' 'involves' 'is' 'linguistics' 'nlp'\n",
            " 'science']\n",
            "\n",
            "Bag of Words representation:\n",
            "[[1 0 1 1 0 1 0 1 0]\n",
            " [1 1 0 0 1 0 1 1 1]]\n"
          ]
        }
      ]
    },
    {
      "cell_type": "code",
      "source": [
        "from sklearn.feature_extraction.text import TfidfVectorizer\n",
        "sentences = [\n",
        "    \"NLP is an interesting field.\",\n",
        "    \"It involves processing natural language.\"\n",
        "]\n",
        "vectorizer = TfidfVectorizer()\n",
        "tfidf_matrix = vectorizer.fit_transform(sentences)\n",
        "\n",
        "print(\"Vocabulary:\")\n",
        "print(vectorizer.get_feature_names_out())\n",
        "\n",
        "print(\"\\nTF-IDF representation:\")\n",
        "print(tfidf_matrix.toarray())"
      ],
      "metadata": {
        "colab": {
          "base_uri": "https://localhost:8080/"
        },
        "id": "N2ewGvEAKVRh",
        "outputId": "31079817-e20b-4e8e-f18a-01a74543c548"
      },
      "execution_count": 4,
      "outputs": [
        {
          "output_type": "stream",
          "name": "stdout",
          "text": [
            "Vocabulary:\n",
            "['an' 'field' 'interesting' 'involves' 'is' 'it' 'language' 'natural'\n",
            " 'nlp' 'processing']\n",
            "\n",
            "TF-IDF representation:\n",
            "[[0.4472136 0.4472136 0.4472136 0.        0.4472136 0.        0.\n",
            "  0.        0.4472136 0.       ]\n",
            " [0.        0.        0.        0.4472136 0.        0.4472136 0.4472136\n",
            "  0.4472136 0.        0.4472136]]\n"
          ]
        }
      ]
    }
  ]
}